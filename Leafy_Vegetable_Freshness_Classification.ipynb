{
  "nbformat": 4,
  "nbformat_minor": 0,
  "metadata": {
    "colab": {
      "provenance": [],
      "gpuType": "T4"
    },
    "kernelspec": {
      "name": "python3",
      "display_name": "Python 3"
    },
    "language_info": {
      "name": "python"
    },
    "accelerator": "GPU"
  },
  "cells": [
    {
      "cell_type": "code",
      "execution_count": 1,
      "metadata": {
        "id": "J4CCFi_6i7mc"
      },
      "outputs": [],
      "source": [
        "import pandas as pd\n",
        "from sklearn.model_selection import train_test_split\n",
        "from sklearn.preprocessing import LabelEncoder\n",
        "import torch\n",
        "from torch.utils.data import Dataset, DataLoader\n",
        "from torchvision import transforms, models\n",
        "import torch.nn as nn\n",
        "import matplotlib.pyplot as plt\n",
        "\n",
        "from torch.optim import Adam, lr_scheduler\n",
        "from sklearn.metrics import precision_score, recall_score, f1_score, confusion_matrix\n",
        "\n",
        "import os\n",
        "import time\n",
        "from PIL import Image"
      ]
    },
    {
      "cell_type": "code",
      "source": [
        "from google.colab import drive\n",
        "drive.mount('/content/mydrive')"
      ],
      "metadata": {
        "colab": {
          "base_uri": "https://localhost:8080/"
        },
        "id": "XYTbqn-P-6zW",
        "outputId": "d69883dc-a62c-4113-c9b8-c327f85a5fab"
      },
      "execution_count": 2,
      "outputs": [
        {
          "output_type": "stream",
          "name": "stdout",
          "text": [
            "Mounted at /content/mydrive\n"
          ]
        }
      ]
    },
    {
      "cell_type": "code",
      "source": [
        "# Check device\n",
        "device = torch.device(\"cuda\" if torch.cuda.is_available() else \"cpu\")\n",
        "\n",
        "# Load the CSV file which holds the paths for all the images\n",
        "veg_file_path = '/content/sample_data/Leafy_testing_new_2306_v1.csv'\n",
        "data = pd.read_csv(veg_file_path)\n",
        "\n",
        "# Initialize the Label Encoder & Label encoding for the training data\n",
        "label_encoder = LabelEncoder()\n",
        "data['Label'] = label_encoder.fit_transform(data['Label'])\n",
        "\n",
        "# Print the mapping of labels to codes\n",
        "label_mapping = dict(zip(label_encoder.classes_, label_encoder.transform(label_encoder.classes_)))\n",
        "print(\"Label to Code Mappings:\")\n",
        "for label, code in label_mapping.items():\n",
        "    print(f\"{label}: {code}\")\n",
        "\n",
        "# Split the data into training, validation, and test sets\n",
        "train_data, test_data = train_test_split(data, test_size=0.1, stratify=data['Label'], random_state=42)\n",
        "train_data, val_data = train_test_split(train_data, test_size=0.2, stratify=train_data['Label'], random_state=42)\n",
        "\n",
        "print(f\"Training set: {len(train_data)} samples\")\n",
        "print(f\"Validation set: {len(val_data)} samples\")\n",
        "print(f\"Test set: {len(test_data)} samples\")"
      ],
      "metadata": {
        "colab": {
          "base_uri": "https://localhost:8080/"
        },
        "id": "6v8eU-ami-48",
        "outputId": "c806e8a7-7c73-425e-a2c9-37da19d1dfa6"
      },
      "execution_count": 3,
      "outputs": [
        {
          "output_type": "stream",
          "name": "stdout",
          "text": [
            "Label to Code Mappings:\n",
            "Day01: 0\n",
            "Day02: 1\n",
            "Day03: 2\n",
            "Training set: 1822 samples\n",
            "Validation set: 456 samples\n",
            "Test set: 254 samples\n"
          ]
        }
      ]
    },
    {
      "cell_type": "code",
      "source": [
        "class CustomImageDataset(Dataset):\n",
        "    def __init__(self, annotations_file, transform=None):\n",
        "        self.img_labels = annotations_file\n",
        "        self.transform = transform\n",
        "\n",
        "    def __len__(self):\n",
        "        return len(self.img_labels)\n",
        "\n",
        "    def __getitem__(self, idx):\n",
        "        img_path = self.img_labels.iloc[idx, 0]\n",
        "        image = Image.open(img_path).convert(\"RGB\")\n",
        "        label = self.img_labels.iloc[idx, 1]\n",
        "        if self.transform:\n",
        "            image = self.transform(image)\n",
        "        return image, label"
      ],
      "metadata": {
        "id": "CaYL9kPtjSMk"
      },
      "execution_count": 4,
      "outputs": []
    },
    {
      "cell_type": "code",
      "source": [
        "# Define data transformations\n",
        "# train_transform = transforms.Compose([\n",
        "#     transforms.RandomResizedCrop(224, scale=(0.8, 1.2)),\n",
        "#     transforms.RandomHorizontalFlip(),\n",
        "#     transforms.RandomVerticalFlip(),\n",
        "#     transforms.ColorJitter(brightness=0.2, contrast=0.2, saturation=0.2, hue=0.1),\n",
        "#     transforms.ToTensor(),\n",
        "#     transforms.Normalize([0.485, 0.456, 0.406], [0.229, 0.224, 0.225])\n",
        "# ])\n",
        "\n",
        "train_transform = transforms.Compose([\n",
        "    transforms.RandomResizedCrop(224, scale=(0.8, 1.2)),\n",
        "    transforms.RandomHorizontalFlip(),\n",
        "    transforms.RandomVerticalFlip(),\n",
        "    transforms.ColorJitter(brightness=0.2, contrast=0.2, saturation=0.2, hue=0.1),\n",
        "    transforms.RandomRotation(20),\n",
        "    transforms.RandomAffine(degrees=0, translate=(0.1, 0.1)),\n",
        "    transforms.ToTensor(),\n",
        "    transforms.Normalize([0.485, 0.456, 0.406], [0.229, 0.224, 0.225])\n",
        "])\n",
        "\n",
        "val_transform = transforms.Compose([\n",
        "    transforms.Resize((224, 224)),\n",
        "    transforms.CenterCrop(224),\n",
        "    transforms.ToTensor(),\n",
        "    transforms.Normalize([0.485, 0.456, 0.406], [0.229, 0.224, 0.225])\n",
        "])"
      ],
      "metadata": {
        "id": "XxHhydzijSPX"
      },
      "execution_count": 5,
      "outputs": []
    },
    {
      "cell_type": "code",
      "source": [
        "# Create datasets\n",
        "train_dataset = CustomImageDataset(train_data, transform=train_transform)\n",
        "val_dataset = CustomImageDataset(val_data, transform=val_transform)\n",
        "test_dataset = CustomImageDataset(test_data, transform=val_transform)\n",
        "\n",
        "# Create data loaders\n",
        "train_loader = DataLoader(train_dataset, batch_size=32, shuffle=True)\n",
        "val_loader = DataLoader(val_dataset, batch_size=32, shuffle=True)\n",
        "test_loader = DataLoader(test_dataset, batch_size=32, shuffle=False)\n",
        "\n",
        "# Print the number of samples\n",
        "print(f'Training samples: {len(train_loader.dataset)}')\n",
        "print(f'Validation samples: {len(val_loader.dataset)}')\n",
        "print(f'Test samples: {len(test_loader.dataset)}')"
      ],
      "metadata": {
        "colab": {
          "base_uri": "https://localhost:8080/"
        },
        "id": "-5BlEtIAjSRs",
        "outputId": "e5b350d5-f327-4cfd-ea90-04249ac8c063"
      },
      "execution_count": 6,
      "outputs": [
        {
          "output_type": "stream",
          "name": "stdout",
          "text": [
            "Training samples: 1822\n",
            "Validation samples: 456\n",
            "Test samples: 254\n"
          ]
        }
      ]
    },
    {
      "cell_type": "code",
      "source": [
        "# Print the number of samples\n",
        "print(f'Training samples: {len(train_loader)}')\n",
        "print(f'Validation samples: {len(val_loader)}')\n",
        "print(f'Test samples: {len(test_loader)}')"
      ],
      "metadata": {
        "colab": {
          "base_uri": "https://localhost:8080/"
        },
        "id": "_NjHoyXdkbEI",
        "outputId": "6c047598-c752-45a3-eacb-bde9ef39a755"
      },
      "execution_count": 7,
      "outputs": [
        {
          "output_type": "stream",
          "name": "stdout",
          "text": [
            "Training samples: 57\n",
            "Validation samples: 15\n",
            "Test samples: 8\n"
          ]
        }
      ]
    },
    {
      "cell_type": "code",
      "source": [
        "#Calculate number of classes\n",
        "num_classes = len(data['Label'].unique())\n",
        "\n",
        "def get_densenet_model(model_name, num_classes):\n",
        "    if model_name == 'densenet121':\n",
        "        model = models.densenet121(pretrained=True)\n",
        "    elif model_name == 'densenet201':\n",
        "        model = models.densenet201(pretrained=True)\n",
        "    else:\n",
        "        raise ValueError(\"Invalid model name. Choose either 'densenet121' or 'densenet201'.\")\n",
        "\n",
        "    for param in model.parameters():\n",
        "        param.requires_grad = False\n",
        "\n",
        "    for param in model.features.denseblock3.parameters():\n",
        "        param.requires_grad = True\n",
        "    for param in model.features.denseblock4.parameters():\n",
        "        param.requires_grad = True\n",
        "\n",
        "    num_features = model.classifier.in_features\n",
        "    model.classifier = nn.Sequential(\n",
        "        nn.Linear(num_features, 512),\n",
        "        nn.BatchNorm1d(512),\n",
        "        nn.ReLU(),\n",
        "        nn.Dropout(0.5),\n",
        "        nn.Linear(512, num_classes),\n",
        "        nn.LogSoftmax(dim=1)\n",
        "    )\n",
        "\n",
        "    model = model.to(device)\n",
        "    return model\n",
        "\n",
        "criterion = nn.CrossEntropyLoss()\n",
        "\n",
        "class EarlyStopping:\n",
        "    def __init__(self, patience=15, verbose=False, delta=0):\n",
        "        self.patience = patience\n",
        "        self.verbose = verbose\n",
        "        self.delta = delta\n",
        "        self.best_score = None\n",
        "        self.early_stop = False\n",
        "        self.counter = 0\n",
        "        self.best_loss = float('inf')\n",
        "\n",
        "    def __call__(self, val_loss, model):\n",
        "        score = -val_loss\n",
        "        if self.best_score is None:\n",
        "            self.best_score = score\n",
        "            self.save_checkpoint(val_loss, model)\n",
        "        elif score < self.best_score + self.delta:\n",
        "            self.counter += 1\n",
        "            if self.verbose:\n",
        "                print(f'EarlyStopping counter: {self.counter} out of {self.patience}')\n",
        "            if self.counter >= self.patience:\n",
        "                self.early_stop = True\n",
        "        else:\n",
        "            self.best_score = score\n",
        "            self.save_checkpoint(val_loss, model)\n",
        "            self.counter = 0\n",
        "\n",
        "    def save_checkpoint(self, val_loss, model):\n",
        "        if self.verbose:\n",
        "            if self.best_loss == float('inf'):\n",
        "                print(f'Validation loss: {val_loss:.6f}.  Saving model ...')\n",
        "            else:\n",
        "                print(f'Validation loss decreased ({self.best_loss:.6f} --> {val_loss:.6f}).  Saving model ...')\n",
        "        self.best_loss = val_loss\n",
        "        torch.save(model.state_dict(), 'checkpoint.pth')\n",
        "\n",
        "def train_model(model, criterion, optimizer, scheduler, early_stopping, train_loader, val_loader, num_epochs=100):\n",
        "    train_loss = []\n",
        "    val_loss = []\n",
        "    train_accuracy = []\n",
        "    val_accuracy = []\n",
        "\n",
        "    for epoch in range(num_epochs):\n",
        "        model.train()\n",
        "        running_loss = 0.0\n",
        "        correct = 0\n",
        "        total = 0\n",
        "\n",
        "        for inputs, labels in train_loader:\n",
        "            inputs, labels = inputs.to(device), labels.to(device)\n",
        "            optimizer.zero_grad()\n",
        "\n",
        "            outputs = model(inputs)\n",
        "            loss = criterion(outputs, labels)\n",
        "            loss.backward()\n",
        "            optimizer.step()\n",
        "\n",
        "            running_loss += loss.item()\n",
        "            _, predicted = torch.max(outputs, 1)\n",
        "            total += labels.size(0)\n",
        "            correct += (predicted == labels).sum().item()\n",
        "\n",
        "        epoch_loss = running_loss / len(train_loader)\n",
        "        epoch_accuracy = correct / total\n",
        "        train_loss.append(epoch_loss)\n",
        "        train_accuracy.append(epoch_accuracy)\n",
        "\n",
        "        model.eval()\n",
        "        val_running_loss = 0.0\n",
        "        val_correct = 0\n",
        "        val_total = 0\n",
        "\n",
        "        with torch.no_grad():\n",
        "            for inputs, labels in val_loader:\n",
        "                inputs, labels = inputs.to(device), labels.to(device)\n",
        "\n",
        "                outputs = model(inputs)\n",
        "                loss = criterion(outputs, labels)\n",
        "\n",
        "                val_running_loss += loss.item()\n",
        "                _, predicted = torch.max(outputs, 1)\n",
        "                val_total += labels.size(0)\n",
        "                val_correct += (predicted == labels).sum().item()\n",
        "\n",
        "        val_epoch_loss = val_running_loss / len(val_loader)\n",
        "        val_epoch_accuracy = val_correct / val_total\n",
        "        val_loss.append(val_epoch_loss)\n",
        "        val_accuracy.append(val_epoch_accuracy)\n",
        "\n",
        "        print(f\"Epoch {epoch+1}/{num_epochs}.. \"\n",
        "              f\"Train loss: {epoch_loss:.4f}.. \"\n",
        "              f\"Train accuracy: {epoch_accuracy*100:.2f}%.. \"\n",
        "              f\"Val loss: {val_epoch_loss:.4f}.. \"\n",
        "              f\"Val accuracy: {val_epoch_accuracy*100:.2f}%\")\n",
        "\n",
        "        scheduler.step(val_epoch_loss)\n",
        "        early_stopping(val_epoch_loss, model)\n",
        "\n",
        "        if early_stopping.early_stop:\n",
        "            print(\"Early stopping\")\n",
        "            break\n",
        "\n",
        "    epochs = range(1, len(train_loss) + 1)\n",
        "    plt.figure(figsize=(14, 5))\n",
        "    plt.subplot(1, 2, 1)\n",
        "    plt.plot(epochs, train_loss, 'b', label='Training loss')\n",
        "    plt.plot(epochs, val_loss, 'r', label='Validation loss')\n",
        "    plt.title('Training and validation loss')\n",
        "    plt.xlabel('Epochs')\n",
        "    plt.ylabel('Loss')\n",
        "    plt.legend()\n",
        "\n",
        "    plt.subplot(1, 2, 2)\n",
        "    plt.plot(epochs, train_accuracy, 'b', label='Training accuracy')\n",
        "    plt.plot(epochs, val_accuracy, 'r', label='Validation accuracy')\n",
        "    plt.title('Training and validation accuracy')\n",
        "    plt.xlabel('Epochs')\n",
        "    plt.ylabel('Accuracy')\n",
        "    plt.legend()\n",
        "\n",
        "    plt.show()"
      ],
      "metadata": {
        "id": "JAXUyZO8keZA"
      },
      "execution_count": 8,
      "outputs": []
    },
    {
      "cell_type": "code",
      "source": [
        "model = get_densenet_model('densenet201', num_classes)\n",
        "\n",
        "#optimizer = Adam(model.parameters(), lr=0.001)\n",
        "# Regularization with weight decay\n",
        "optimizer = Adam(model.parameters(), lr=0.001, weight_decay=1e-4)\n",
        "scheduler = lr_scheduler.ReduceLROnPlateau(optimizer, 'min', patience=3, verbose=True)\n",
        "early_stopping = EarlyStopping(patience=10, verbose=True)\n",
        "\n",
        "# train_model(model, criterion, optimizer, scheduler, early_stopping, train_loader, val_loader, num_epochs=100)\n",
        "# Training the model\n",
        "train_model(model, criterion, optimizer, scheduler, early_stopping, train_loader, val_loader, num_epochs=100)\n",
        "\n",
        "def evaluate_model(model, criterion, test_loader):\n",
        "    model.eval()\n",
        "    test_loss = 0.0\n",
        "    correct = 0\n",
        "    total = 0\n",
        "    all_labels = []\n",
        "    all_predictions = []\n",
        "\n",
        "    with torch.no_grad():\n",
        "        for inputs, labels in test_loader:\n",
        "            inputs, labels = inputs.to(device), labels.to(device)\n",
        "            outputs = model(inputs)\n",
        "            loss = criterion(outputs, labels)\n",
        "            test_loss += loss.item()\n",
        "            _, predicted = torch.max(outputs, 1)\n",
        "            total += labels.size(0)\n",
        "            correct += (predicted == labels).sum().item()\n",
        "            all_labels.extend(labels.cpu().numpy())\n",
        "            all_predictions.extend(predicted.cpu().numpy())\n",
        "\n",
        "    test_loss /= len(test_loader)\n",
        "    test_accuracy = correct / total\n",
        "    test_precision = precision_score(all_labels, all_predictions, average='weighted')\n",
        "    test_recall = recall_score(all_labels, all_predictions, average='weighted')\n",
        "    test_f1 = f1_score(all_labels, all_predictions, average='weighted')\n",
        "    conf_matrix = confusion_matrix(all_labels, all_predictions)\n",
        "\n",
        "    print(f\"Test Loss: {test_loss:.4f}, Test Accuracy: {test_accuracy*100:.2f}%\")\n",
        "    print(f\"Test Precision: {test_precision:.4f}, Test Recall: {test_recall:.4f}, Test F1 Score: {test_f1:.4f}\")\n",
        "    print(\"Confusion Matrix:\")\n",
        "    print(conf_matrix)\n",
        "\n",
        "model.load_state_dict(torch.load('checkpoint.pth'))\n",
        "evaluate_model(model, criterion, test_loader)"
      ],
      "metadata": {
        "colab": {
          "base_uri": "https://localhost:8080/",
          "height": 1000
        },
        "id": "S4-RWZmvk5qY",
        "outputId": "8e547b4e-de81-4e16-8e81-5d3230a7e0e6"
      },
      "execution_count": 9,
      "outputs": [
        {
          "output_type": "stream",
          "name": "stderr",
          "text": [
            "/usr/local/lib/python3.10/dist-packages/torchvision/models/_utils.py:208: UserWarning: The parameter 'pretrained' is deprecated since 0.13 and may be removed in the future, please use 'weights' instead.\n",
            "  warnings.warn(\n",
            "/usr/local/lib/python3.10/dist-packages/torchvision/models/_utils.py:223: UserWarning: Arguments other than a weight enum or `None` for 'weights' are deprecated since 0.13 and may be removed in the future. The current behavior is equivalent to passing `weights=DenseNet201_Weights.IMAGENET1K_V1`. You can also use `weights=DenseNet201_Weights.DEFAULT` to get the most up-to-date weights.\n",
            "  warnings.warn(msg)\n",
            "Downloading: \"https://download.pytorch.org/models/densenet201-c1103571.pth\" to /root/.cache/torch/hub/checkpoints/densenet201-c1103571.pth\n",
            "100%|██████████| 77.4M/77.4M [00:00<00:00, 88.0MB/s]\n",
            "/usr/local/lib/python3.10/dist-packages/torch/optim/lr_scheduler.py:28: UserWarning: The verbose parameter is deprecated. Please use get_last_lr() to access the learning rate.\n",
            "  warnings.warn(\"The verbose parameter is deprecated. Please use get_last_lr() \"\n"
          ]
        },
        {
          "output_type": "stream",
          "name": "stdout",
          "text": [
            "Epoch 1/100.. Train loss: 0.9989.. Train accuracy: 52.58%.. Val loss: 1.0685.. Val accuracy: 63.82%\n",
            "Validation loss: 1.068479.  Saving model ...\n",
            "Epoch 2/100.. Train loss: 0.7118.. Train accuracy: 69.70%.. Val loss: 0.7286.. Val accuracy: 73.03%\n",
            "Validation loss decreased (1.068479 --> 0.728618).  Saving model ...\n",
            "Epoch 3/100.. Train loss: 0.5750.. Train accuracy: 76.51%.. Val loss: 0.4793.. Val accuracy: 81.80%\n",
            "Validation loss decreased (0.728618 --> 0.479257).  Saving model ...\n",
            "Epoch 4/100.. Train loss: 0.4759.. Train accuracy: 80.57%.. Val loss: 0.3601.. Val accuracy: 87.06%\n",
            "Validation loss decreased (0.479257 --> 0.360086).  Saving model ...\n",
            "Epoch 5/100.. Train loss: 0.4237.. Train accuracy: 82.27%.. Val loss: 0.3774.. Val accuracy: 83.55%\n",
            "EarlyStopping counter: 1 out of 10\n",
            "Epoch 6/100.. Train loss: 0.4287.. Train accuracy: 80.85%.. Val loss: 0.2519.. Val accuracy: 90.35%\n",
            "Validation loss decreased (0.360086 --> 0.251910).  Saving model ...\n",
            "Epoch 7/100.. Train loss: 0.4082.. Train accuracy: 82.22%.. Val loss: 0.3687.. Val accuracy: 84.21%\n",
            "EarlyStopping counter: 1 out of 10\n",
            "Epoch 8/100.. Train loss: 0.3219.. Train accuracy: 87.16%.. Val loss: 0.4087.. Val accuracy: 88.38%\n",
            "EarlyStopping counter: 2 out of 10\n",
            "Epoch 9/100.. Train loss: 0.3513.. Train accuracy: 84.80%.. Val loss: 0.2261.. Val accuracy: 89.69%\n",
            "Validation loss decreased (0.251910 --> 0.226056).  Saving model ...\n",
            "Epoch 10/100.. Train loss: 0.3218.. Train accuracy: 87.76%.. Val loss: 0.4863.. Val accuracy: 83.55%\n",
            "EarlyStopping counter: 1 out of 10\n",
            "Epoch 11/100.. Train loss: 0.2879.. Train accuracy: 89.02%.. Val loss: 0.1752.. Val accuracy: 93.20%\n",
            "Validation loss decreased (0.226056 --> 0.175212).  Saving model ...\n",
            "Epoch 12/100.. Train loss: 0.2691.. Train accuracy: 90.01%.. Val loss: 0.4120.. Val accuracy: 87.94%\n",
            "EarlyStopping counter: 1 out of 10\n",
            "Epoch 13/100.. Train loss: 0.2920.. Train accuracy: 89.19%.. Val loss: 0.2675.. Val accuracy: 88.60%\n",
            "EarlyStopping counter: 2 out of 10\n",
            "Epoch 14/100.. Train loss: 0.2693.. Train accuracy: 90.23%.. Val loss: 0.1428.. Val accuracy: 93.20%\n",
            "Validation loss decreased (0.175212 --> 0.142833).  Saving model ...\n",
            "Epoch 15/100.. Train loss: 0.2243.. Train accuracy: 91.49%.. Val loss: 0.1824.. Val accuracy: 94.08%\n",
            "EarlyStopping counter: 1 out of 10\n",
            "Epoch 16/100.. Train loss: 0.2244.. Train accuracy: 92.10%.. Val loss: 0.2294.. Val accuracy: 92.54%\n",
            "EarlyStopping counter: 2 out of 10\n",
            "Epoch 17/100.. Train loss: 0.2314.. Train accuracy: 91.77%.. Val loss: 0.2482.. Val accuracy: 90.13%\n",
            "EarlyStopping counter: 3 out of 10\n",
            "Epoch 18/100.. Train loss: 0.2005.. Train accuracy: 92.54%.. Val loss: 0.1315.. Val accuracy: 93.42%\n",
            "Validation loss decreased (0.142833 --> 0.131523).  Saving model ...\n",
            "Epoch 19/100.. Train loss: 0.2218.. Train accuracy: 91.49%.. Val loss: 0.1873.. Val accuracy: 92.54%\n",
            "EarlyStopping counter: 1 out of 10\n",
            "Epoch 20/100.. Train loss: 0.2240.. Train accuracy: 91.38%.. Val loss: 0.3594.. Val accuracy: 88.82%\n",
            "EarlyStopping counter: 2 out of 10\n",
            "Epoch 21/100.. Train loss: 0.1910.. Train accuracy: 93.19%.. Val loss: 0.1630.. Val accuracy: 93.64%\n",
            "EarlyStopping counter: 3 out of 10\n",
            "Epoch 22/100.. Train loss: 0.2158.. Train accuracy: 91.49%.. Val loss: 0.2231.. Val accuracy: 91.45%\n",
            "EarlyStopping counter: 4 out of 10\n",
            "Epoch 23/100.. Train loss: 0.1452.. Train accuracy: 95.33%.. Val loss: 0.1169.. Val accuracy: 94.96%\n",
            "Validation loss decreased (0.131523 --> 0.116933).  Saving model ...\n",
            "Epoch 24/100.. Train loss: 0.1116.. Train accuracy: 96.49%.. Val loss: 0.0987.. Val accuracy: 95.61%\n",
            "Validation loss decreased (0.116933 --> 0.098667).  Saving model ...\n",
            "Epoch 25/100.. Train loss: 0.0939.. Train accuracy: 96.54%.. Val loss: 0.1003.. Val accuracy: 96.05%\n",
            "EarlyStopping counter: 1 out of 10\n",
            "Epoch 26/100.. Train loss: 0.1080.. Train accuracy: 96.05%.. Val loss: 0.1124.. Val accuracy: 96.27%\n",
            "EarlyStopping counter: 2 out of 10\n",
            "Epoch 27/100.. Train loss: 0.0961.. Train accuracy: 96.71%.. Val loss: 0.0889.. Val accuracy: 96.93%\n",
            "Validation loss decreased (0.098667 --> 0.088873).  Saving model ...\n",
            "Epoch 28/100.. Train loss: 0.0798.. Train accuracy: 97.53%.. Val loss: 0.0912.. Val accuracy: 96.49%\n",
            "EarlyStopping counter: 1 out of 10\n",
            "Epoch 29/100.. Train loss: 0.0687.. Train accuracy: 97.80%.. Val loss: 0.0926.. Val accuracy: 96.05%\n",
            "EarlyStopping counter: 2 out of 10\n",
            "Epoch 30/100.. Train loss: 0.0782.. Train accuracy: 97.53%.. Val loss: 0.0875.. Val accuracy: 96.49%\n",
            "Validation loss decreased (0.088873 --> 0.087535).  Saving model ...\n",
            "Epoch 31/100.. Train loss: 0.0699.. Train accuracy: 97.69%.. Val loss: 0.0729.. Val accuracy: 96.71%\n",
            "Validation loss decreased (0.087535 --> 0.072882).  Saving model ...\n",
            "Epoch 32/100.. Train loss: 0.0537.. Train accuracy: 98.24%.. Val loss: 0.0882.. Val accuracy: 96.71%\n",
            "EarlyStopping counter: 1 out of 10\n",
            "Epoch 33/100.. Train loss: 0.0670.. Train accuracy: 98.02%.. Val loss: 0.0886.. Val accuracy: 96.05%\n",
            "EarlyStopping counter: 2 out of 10\n",
            "Epoch 34/100.. Train loss: 0.0547.. Train accuracy: 98.24%.. Val loss: 0.0736.. Val accuracy: 96.71%\n",
            "EarlyStopping counter: 3 out of 10\n",
            "Epoch 35/100.. Train loss: 0.0648.. Train accuracy: 97.86%.. Val loss: 0.0772.. Val accuracy: 96.93%\n",
            "EarlyStopping counter: 4 out of 10\n",
            "Epoch 36/100.. Train loss: 0.0706.. Train accuracy: 97.86%.. Val loss: 0.0812.. Val accuracy: 97.15%\n",
            "EarlyStopping counter: 5 out of 10\n",
            "Epoch 37/100.. Train loss: 0.0561.. Train accuracy: 98.08%.. Val loss: 0.0704.. Val accuracy: 96.71%\n",
            "Validation loss decreased (0.072882 --> 0.070418).  Saving model ...\n",
            "Epoch 38/100.. Train loss: 0.0646.. Train accuracy: 97.64%.. Val loss: 0.0695.. Val accuracy: 97.37%\n",
            "Validation loss decreased (0.070418 --> 0.069456).  Saving model ...\n",
            "Epoch 39/100.. Train loss: 0.0578.. Train accuracy: 98.19%.. Val loss: 0.0739.. Val accuracy: 96.93%\n",
            "EarlyStopping counter: 1 out of 10\n",
            "Epoch 40/100.. Train loss: 0.0502.. Train accuracy: 98.63%.. Val loss: 0.0772.. Val accuracy: 97.15%\n",
            "EarlyStopping counter: 2 out of 10\n",
            "Epoch 41/100.. Train loss: 0.0600.. Train accuracy: 98.08%.. Val loss: 0.0735.. Val accuracy: 96.93%\n",
            "EarlyStopping counter: 3 out of 10\n",
            "Epoch 42/100.. Train loss: 0.0484.. Train accuracy: 98.52%.. Val loss: 0.0866.. Val accuracy: 97.15%\n",
            "EarlyStopping counter: 4 out of 10\n",
            "Epoch 43/100.. Train loss: 0.0519.. Train accuracy: 98.63%.. Val loss: 0.0723.. Val accuracy: 97.37%\n",
            "EarlyStopping counter: 5 out of 10\n",
            "Epoch 44/100.. Train loss: 0.0427.. Train accuracy: 98.63%.. Val loss: 0.0771.. Val accuracy: 96.93%\n",
            "EarlyStopping counter: 6 out of 10\n",
            "Epoch 45/100.. Train loss: 0.0563.. Train accuracy: 98.13%.. Val loss: 0.0752.. Val accuracy: 96.93%\n",
            "EarlyStopping counter: 7 out of 10\n",
            "Epoch 46/100.. Train loss: 0.0485.. Train accuracy: 98.57%.. Val loss: 0.1057.. Val accuracy: 96.93%\n",
            "EarlyStopping counter: 8 out of 10\n",
            "Epoch 47/100.. Train loss: 0.0485.. Train accuracy: 98.57%.. Val loss: 0.0763.. Val accuracy: 97.15%\n",
            "EarlyStopping counter: 9 out of 10\n",
            "Epoch 48/100.. Train loss: 0.0592.. Train accuracy: 98.13%.. Val loss: 0.0751.. Val accuracy: 97.15%\n",
            "EarlyStopping counter: 10 out of 10\n",
            "Early stopping\n"
          ]
        },
        {
          "output_type": "display_data",
          "data": {
            "text/plain": [
              "<Figure size 1400x500 with 2 Axes>"
            ],
            "image/png": "[encoded data removed]"
          },
          "metadata": {}
        },
        {
          "output_type": "stream",
          "name": "stdout",
          "text": [
            "Test Loss: 0.1084, Test Accuracy: 96.46%\n",
            "Test Precision: 0.9656, Test Recall: 0.9646, Test F1 Score: 0.9647\n",
            "Confusion Matrix:\n",
            "[[84  1  3]\n",
            " [ 1 81  3]\n",
            " [ 1  0 80]]\n"
          ]
        }
      ]
    },
    {
      "cell_type": "code",
      "source": [
        "# # Save the final model\n",
        "# model_path = '/content/checkpoint_c.pth'\n",
        "# torch.save(model.state_dict(), model_path)\n",
        "\n",
        "# # Download the model\n",
        "# from google.colab import files\n",
        "# files.download(model_path1)\n",
        "\n",
        "# Download the best model\n",
        "def download_model(filepath):\n",
        "    from google.colab import files\n",
        "    files.download(filepath)\n",
        "\n",
        "download_model('checkpoint.pth')"
      ],
      "metadata": {
        "colab": {
          "base_uri": "https://localhost:8080/",
          "height": 17
        },
        "id": "LFQ-L2lE-mEK",
        "outputId": "b6735c5d-d8c2-42bb-f199-715dc38d99b7"
      },
      "execution_count": 10,
      "outputs": [
        {
          "output_type": "display_data",
          "data": {
            "text/plain": [
              "<IPython.core.display.Javascript object>"
            ],
            "application/javascript": [
              "\n",
              "    async function download(id, filename, size) {\n",
              "      if (!google.colab.kernel.accessAllowed) {\n",
              "        return;\n",
              "      }\n",
              "      const div = document.createElement('div');\n",
              "      const label = document.createElement('label');\n",
              "      label.textContent = `Downloading \"${filename}\": `;\n",
              "      div.appendChild(label);\n",
              "      const progress = document.createElement('progress');\n",
              "      progress.max = size;\n",
              "      div.appendChild(progress);\n",
              "      document.body.appendChild(div);\n",
              "\n",
              "      const buffers = [];\n",
              "      let downloaded = 0;\n",
              "\n",
              "      const channel = await google.colab.kernel.comms.open(id);\n",
              "      // Send a message to notify the kernel that we're ready.\n",
              "      channel.send({})\n",
              "\n",
              "      for await (const message of channel.messages) {\n",
              "        // Send a message to notify the kernel that we're ready.\n",
              "        channel.send({})\n",
              "        if (message.buffers) {\n",
              "          for (const buffer of message.buffers) {\n",
              "            buffers.push(buffer);\n",
              "            downloaded += buffer.byteLength;\n",
              "            progress.value = downloaded;\n",
              "          }\n",
              "        }\n",
              "      }\n",
              "      const blob = new Blob(buffers, {type: 'application/binary'});\n",
              "      const a = document.createElement('a');\n",
              "      a.href = window.URL.createObjectURL(blob);\n",
              "      a.download = filename;\n",
              "      div.appendChild(a);\n",
              "      a.click();\n",
              "      div.remove();\n",
              "    }\n",
              "  "
            ]
          },
          "metadata": {}
        },
        {
          "output_type": "display_data",
          "data": {
            "text/plain": [
              "<IPython.core.display.Javascript object>"
            ],
            "application/javascript": [
              "download(\"download_ce4f5ff1-7336-401f-97e6-175d6ee7fdb1\", \"checkpoint.pth\", 77692050)"
            ]
          },
          "metadata": {}
        }
      ]
    }
  ]
}